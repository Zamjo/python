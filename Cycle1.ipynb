{
  "nbformat": 4,
  "nbformat_minor": 0,
  "metadata": {
    "colab": {
      "name": "Cycle1.ipynb",
      "provenance": [],
      "collapsed_sections": []
    },
    "kernelspec": {
      "display_name": "Python 3",
      "name": "python3"
    }
  },
  "cells": [
    {
      "cell_type": "code",
      "metadata": {
        "id": "QeYAHOFOwS82"
      },
      "source": [
        "program 1"
      ],
      "execution_count": null,
      "outputs": []
    },
    {
      "cell_type": "code",
      "metadata": {
        "id": "psMjWPWmpaFD",
        "colab": {
          "base_uri": "https://localhost:8080/"
        },
        "outputId": "4947aaf4-c782-4c9b-d17e-ee026ce184b4"
      },
      "source": [
        " \n",
        " \n",
        " \n",
        "a=1\n",
        " \n",
        " \n",
        " \n",
        "print(\"the value of\",a,\"is of the type\",type(a))\n",
        " \n",
        " \n",
        " \n",
        "b=\"hello\"\n",
        " \n",
        " \n",
        " \n",
        "print(\"the value of\",b,\"is of the type\",type(b))\n",
        " \n",
        " \n",
        " \n",
        "c=3.14\n",
        " \n",
        " \n",
        " \n",
        "print(\"the value of\",c,\"is of the type\",type(c))\n",
        " \n",
        " \n",
        " \n",
        "d=2j\n",
        " \n",
        " \n",
        " \n",
        "print(\"the value of\",d,\"is of the type\",type(d))\n",
        " \n",
        " \n",
        " \n",
        "e={\"ads\",\"web\",\"python\"}\n",
        " \n",
        " \n",
        " \n",
        "print(\"the value of\",e,\"is of the type\",type(e))\n",
        " \n",
        " \n",
        " \n",
        "f=(\"ads\",\"web\",\"python\")\n",
        " \n",
        " \n",
        " \n",
        "print(\"the value of\",f,\"is of the type\",type(f))\n",
        " \n",
        " \n",
        " \n",
        "g=[\"ads\",\"web\",\"python\"]\n",
        " \n",
        " \n",
        " \n",
        "print(\"the value of\",g,\"is of the type\",type(g))\n",
        " \n",
        " \n",
        " \n",
        "h=range(5)\n",
        " \n",
        " \n",
        " \n",
        "print(\"the value of\",h,\"is of the type\",type(h))\n",
        " \n",
        " \n",
        " \n",
        "i=True\n",
        " \n",
        " \n",
        " \n",
        "print(\"the value of\",i,\"is of the type\",type(i))"
      ],
      "execution_count": 1,
      "outputs": [
        {
          "output_type": "stream",
          "text": [
            "the value of 1 is of the type <class 'int'>\n",
            "the value of hello is of the type <class 'str'>\n",
            "the value of 3.14 is of the type <class 'float'>\n",
            "the value of 2j is of the type <class 'complex'>\n",
            "the value of {'python', 'ads', 'web'} is of the type <class 'set'>\n",
            "the value of ('ads', 'web', 'python') is of the type <class 'tuple'>\n",
            "the value of ['ads', 'web', 'python'] is of the type <class 'list'>\n",
            "the value of range(0, 5) is of the type <class 'range'>\n",
            "the value of True is of the type <class 'bool'>\n"
          ],
          "name": "stdout"
        }
      ]
    },
    {
      "cell_type": "code",
      "metadata": {
        "id": "D-Py6lOfppkc"
      },
      "source": [
        "Program 2"
      ],
      "execution_count": null,
      "outputs": []
    },
    {
      "cell_type": "code",
      "metadata": {
        "colab": {
          "base_uri": "https://localhost:8080/"
        },
        "id": "oTqIEevdm9g_",
        "outputId": "12a0c48a-3a89-4803-89eb-7dcf7baee87d"
      },
      "source": [
        " print('Hello, world!')"
      ],
      "execution_count": null,
      "outputs": [
        {
          "output_type": "stream",
          "text": [
            "Hello, world!\n"
          ],
          "name": "stdout"
        }
      ]
    },
    {
      "cell_type": "code",
      "metadata": {
        "id": "yUDrHblewRY2"
      },
      "source": [
        "program 3"
      ],
      "execution_count": null,
      "outputs": []
    },
    {
      "cell_type": "code",
      "metadata": {
        "colab": {
          "base_uri": "https://localhost:8080/"
        },
        "id": "yo47ZJUrn5d3",
        "outputId": "b2801d61-b10a-47e8-a7f9-e8b45bd50ab7"
      },
      "source": [
        " num=int(input(\"Enter the integer: \"))\n",
        "print('interger is',num)"
      ],
      "execution_count": null,
      "outputs": [
        {
          "output_type": "stream",
          "text": [
            "Enter the integer: 5\n",
            "interger is 5\n"
          ],
          "name": "stdout"
        }
      ]
    },
    {
      "cell_type": "code",
      "metadata": {
        "id": "uk0vkzpbwYF9"
      },
      "source": [
        "program 4"
      ],
      "execution_count": null,
      "outputs": []
    },
    {
      "cell_type": "code",
      "metadata": {
        "colab": {
          "base_uri": "https://localhost:8080/"
        },
        "id": "_k7VcKwVxqGe",
        "outputId": "956010b1-5054-4e2f-f453-f15e8eee794f"
      },
      "source": [
        "a = int(input(\"enter the number 0f a=\"))4\r\n",
        "b =int(input(\"enter the number 0f b=\"))\r\n",
        "sum = a+b\r\n",
        "print(\"sum of two number=\",sum)"
      ],
      "execution_count": null,
      "outputs": [
        {
          "output_type": "stream",
          "text": [
            "enter the number 0f a=2\n",
            "enter the number 0f b=2\n",
            "sum of two number= 4\n"
          ],
          "name": "stdout"
        }
      ]
    },
    {
      "cell_type": "code",
      "metadata": {
        "id": "JfkXWSy-yHYh"
      },
      "source": [
        "program 5"
      ],
      "execution_count": null,
      "outputs": []
    },
    {
      "cell_type": "code",
      "metadata": {
        "id": "HpPgJCrLyJvz",
        "colab": {
          "base_uri": "https://localhost:8080/"
        },
        "outputId": "c300f9ec-15d7-4284-94cb-ca02c706b15a"
      },
      "source": [
        "a = float (input(\"enter the number 0f a=\"))\r\n",
        "b =float (input(\"enter the number 0f b=\"))\r\n",
        "mul = a*b\r\n",
        "print(\"multiplication of two number=\",mul)"
      ],
      "execution_count": 3,
      "outputs": [
        {
          "output_type": "stream",
          "text": [
            "enter the number 0f a=4\n",
            "enter the number 0f b=4\n",
            "multiplication of two number= 16.0\n"
          ],
          "name": "stdout"
        }
      ]
    },
    {
      "cell_type": "code",
      "metadata": {
        "id": "Wr-dQd5dyl4m"
      },
      "source": [
        "program 6"
      ],
      "execution_count": null,
      "outputs": []
    },
    {
      "cell_type": "code",
      "metadata": {
        "colab": {
          "base_uri": "https://localhost:8080/"
        },
        "id": "_-er-8lMynsm",
        "outputId": "0a037737-794d-4653-f2c9-d586a26d3603"
      },
      "source": [
        "divisor = int (input(\"enter the number\"))\r\n",
        "dividend = int (input(\"enter the number\"))\r\n",
        "quotient = dividend//divisor\r\n",
        "reminder = dividend % divisor\r\n",
        "print(\"Quotient is\", quotient)\r\n",
        "print(\"Reminder is\",reminder)"
      ],
      "execution_count": null,
      "outputs": [
        {
          "output_type": "stream",
          "text": [
            "enter the number3\n",
            "enter the number27\n",
            "Quotient is 9.0\n",
            "Reminder is 0\n"
          ],
          "name": "stdout"
        }
      ]
    },
    {
      "cell_type": "code",
      "metadata": {
        "id": "AECjBP-hzxmb"
      },
      "source": [
        "program 7"
      ],
      "execution_count": null,
      "outputs": []
    },
    {
      "cell_type": "code",
      "metadata": {
        "colab": {
          "base_uri": "https://localhost:8080/"
        },
        "id": "edCOnRYgwbPl",
        "outputId": "1cf03e19-2a80-4230-a041-ea0198fa4015"
      },
      "source": [
        "a = int(input(\"enter the number 0f a\"))\r\n",
        "b =int(input(\"enter the number 0f b\"))\r\n",
        "print(\"before swapping\\na=\", a, \" b=\", b)\r\n",
        "temp = a\r\n",
        "a = b\r\n",
        "b = temp\r\n",
        "print(\"\\nafter swapping\\na=\", a, \" b=\", b)"
      ],
      "execution_count": null,
      "outputs": [
        {
          "output_type": "stream",
          "text": [
            "enter the nymber 0f a5\n",
            "enter the nymber 0f b6\n",
            "before swapping\n",
            "a= 5  b= 6\n",
            "\n",
            "after swapping\n",
            "a= 6  b= 5\n"
          ],
          "name": "stdout"
        }
      ]
    },
    {
      "cell_type": "code",
      "metadata": {
        "id": "3zGGsK1gxX1N"
      },
      "source": [
        "program 8"
      ],
      "execution_count": null,
      "outputs": []
    },
    {
      "cell_type": "code",
      "metadata": {
        "id": "V366JTw0xmRg",
        "colab": {
          "base_uri": "https://localhost:8080/"
        },
        "outputId": "4ff64528-8f44-43a4-c988-59991c04506d"
      },
      "source": [
        "num = int(input(\"Enter a number: \"))\r\n",
        "if (num % 2) == 0:\r\n",
        "   print(num,\"is even\")\r\n",
        "else:\r\n",
        "   print(num,\"is odd\")"
      ],
      "execution_count": 4,
      "outputs": [
        {
          "output_type": "stream",
          "text": [
            "Enter a number: 4\n",
            "4 is even\n"
          ],
          "name": "stdout"
        }
      ]
    },
    {
      "cell_type": "code",
      "metadata": {
        "id": "krrNbfli2QBl"
      },
      "source": [
        "program 9"
      ],
      "execution_count": null,
      "outputs": []
    },
    {
      "cell_type": "code",
      "metadata": {
        "colab": {
          "base_uri": "https://localhost:8080/"
        },
        "id": "XXjJj2yC2SLD",
        "outputId": "f60f58a2-4118-44d4-be65-7538ec90a125"
      },
      "source": [
        "ch=input(\"Please enter the character as you wish: \")\r\n",
        "if(ch== 'a'or ch== 'A'or ch== 'e'or ch== 'E'or ch== 'i' or ch=='I' or ch=='o' or ch=='O' or ch=='u' or ch=='U'):\r\n",
        "   print(\"The given character \",ch,\" is  the vowel\")\r\n",
        "else:\r\n",
        "    print(\"The given character \",ch,\" is  consonant\")"
      ],
      "execution_count": null,
      "outputs": [
        {
          "output_type": "stream",
          "text": [
            "Please enter the character as you wish: y\n",
            "The given character  y  is  consonant\n"
          ],
          "name": "stdout"
        }
      ]
    },
    {
      "cell_type": "code",
      "metadata": {
        "id": "M5VAtGp933Pc"
      },
      "source": [
        "program 10"
      ],
      "execution_count": null,
      "outputs": []
    },
    {
      "cell_type": "code",
      "metadata": {
        "colab": {
          "base_uri": "https://localhost:8080/"
        },
        "id": "o5sS3Xjm35qn",
        "outputId": "46a51b8a-b2b4-44b3-e2b6-2ebff8135e3b"
      },
      "source": [
        "num1 = int(input(\"Enter first number: \"))           \r\n",
        "num2 = int(input(\"Enter second number: \"))          \r\n",
        "num3 = int(input(\"And Enter third number: \"))  \r\n",
        "if (num1 > num2) and (num1 > num3):\r\n",
        "   max = num1\r\n",
        "elif (num2 > num1) and (num2 > num3):\r\n",
        "   max = num2\r\n",
        "else:\r\n",
        "   max = num3\r\n",
        "print(\"The largest among these three numbers is\",max)"
      ],
      "execution_count": null,
      "outputs": [
        {
          "output_type": "stream",
          "text": [
            "Enter first number: 3\n",
            "Enter second number: 4\n",
            "And Enter third number: 5\n",
            "The largest among these three numbers is 5\n"
          ],
          "name": "stdout"
        }
      ]
    },
    {
      "cell_type": "code",
      "metadata": {
        "id": "i3rgO9XG5Eer"
      },
      "source": [
        "program 11"
      ],
      "execution_count": null,
      "outputs": []
    },
    {
      "cell_type": "code",
      "metadata": {
        "colab": {
          "base_uri": "https://localhost:8080/"
        },
        "id": "K3Z3ofmx5HiH",
        "outputId": "8256ea13-4a23-43cf-cf4e-182d365f8162"
      },
      "source": [
        "year = int(input(\"Please Enter the Year Number : \"))\r\n",
        " \r\n",
        "if (( year%4 == 0)):\r\n",
        "    print(year,\"is a Leap Year\")\r\n",
        "else:\r\n",
        "    print(year,\"is Not the Leap Year\")"
      ],
      "execution_count": null,
      "outputs": [
        {
          "output_type": "stream",
          "text": [
            "Please Enter the Year Number : 2020\n",
            "2020 is a Leap Year\n"
          ],
          "name": "stdout"
        }
      ]
    },
    {
      "cell_type": "code",
      "metadata": {
        "id": "VxqvNXCj5hFZ"
      },
      "source": [
        "program 12"
      ],
      "execution_count": null,
      "outputs": []
    },
    {
      "cell_type": "code",
      "metadata": {
        "colab": {
          "base_uri": "https://localhost:8080/"
        },
        "id": "QGGR4CFm5i-Q",
        "outputId": "6323f332-77ac-4ca9-897b-7162d86ba6c6"
      },
      "source": [
        "n = int(input(\"enter the number:\"))\r\n",
        "if n > 0: \r\n",
        "        print(\"Positive\") \r\n",
        "elif n < 0: \r\n",
        "        print(\"Negative\") \r\n",
        "else: \r\n",
        "        print(\"Equal to zero\") "
      ],
      "execution_count": null,
      "outputs": [
        {
          "output_type": "stream",
          "text": [
            "enter the number:-9\n",
            "Negative\n"
          ],
          "name": "stdout"
        }
      ]
    },
    {
      "cell_type": "code",
      "metadata": {
        "id": "u_LPtLLN7DvC"
      },
      "source": [
        "program 13"
      ],
      "execution_count": null,
      "outputs": []
    },
    {
      "cell_type": "code",
      "metadata": {
        "colab": {
          "base_uri": "https://localhost:8080/"
        },
        "id": "cDxgiFAf7GBl",
        "outputId": "4fb9fe09-acc1-45b1-8173-e74bb6962ea0"
      },
      "source": [
        "number = int(input(\"Please Enter any Number: \"))\r\n",
        "sum=0\r\n",
        "for value in range(1, number + 1):\r\n",
        "    sum= sum + value\r\n",
        "\r\n",
        "print(\"The Sum of Natural Numbers\",sum)"
      ],
      "execution_count": null,
      "outputs": [
        {
          "output_type": "stream",
          "text": [
            "Please Enter any Number: 2\n",
            "The Sum of Natural Numbers 3\n"
          ],
          "name": "stdout"
        }
      ]
    },
    {
      "cell_type": "code",
      "metadata": {
        "id": "2XjplQV_9Cfg"
      },
      "source": [
        "program 14"
      ],
      "execution_count": null,
      "outputs": []
    },
    {
      "cell_type": "code",
      "metadata": {
        "colab": {
          "base_uri": "https://localhost:8080/"
        },
        "id": "uKjQvcWG9JuK",
        "outputId": "fc551dba-bef7-4c73-b6e1-3f26b9fe246a"
      },
      "source": [
        "n = int(input(\"Enter number:\"))\r\n",
        "if(n <= 1):\r\n",
        "        return 1\r\n",
        "else:\r\n",
        "        return(n*factorial(n-1))\r\n",
        "print(\"Factorial:\")\r\n",
        "print(factorial(n))"
      ],
      "execution_count": null,
      "outputs": [
        {
          "output_type": "stream",
          "text": [
            "Enter number:-5\n",
            "Factorial:\n",
            "1\n"
          ],
          "name": "stdout"
        }
      ]
    },
    {
      "cell_type": "code",
      "metadata": {
        "id": "VwsGfBuF_MxS"
      },
      "source": [
        "program 15"
      ],
      "execution_count": null,
      "outputs": []
    },
    {
      "cell_type": "code",
      "metadata": {
        "id": "YujAGAEMJ13T",
        "colab": {
          "base_uri": "https://localhost:8080/"
        },
        "outputId": "4b55c8e2-f0ff-437c-b590-122d7caecaca"
      },
      "source": [
        "num=int(input(\"Enter an integer\"))\r\n",
        "for i in range(1,11):\r\n",
        "    print(num,'X', i,' = ',num*i)"
      ],
      "execution_count": 6,
      "outputs": [
        {
          "output_type": "stream",
          "text": [
            "Enter an integer2\n",
            "2 X 1  =  2\n",
            "2 X 2  =  4\n",
            "2 X 3  =  6\n",
            "2 X 4  =  8\n",
            "2 X 5  =  10\n",
            "2 X 6  =  12\n",
            "2 X 7  =  14\n",
            "2 X 8  =  16\n",
            "2 X 9  =  18\n",
            "2 X 10  =  20\n"
          ],
          "name": "stdout"
        }
      ]
    },
    {
      "cell_type": "code",
      "metadata": {
        "id": "L1ACv-wRJ6GF"
      },
      "source": [
        "program 16"
      ],
      "execution_count": null,
      "outputs": []
    },
    {
      "cell_type": "code",
      "metadata": {
        "colab": {
          "base_uri": "https://localhost:8080/"
        },
        "id": "mlKB-upd_T_E",
        "outputId": "7ef42245-bf9a-4260-bb15-58dfcf602d4e"
      },
      "source": [
        "\r\n",
        "num = int(input(\"How many terms? \"))\r\n",
        "\r\n",
        "# first two terms\r\n",
        "n1 = 0\r\n",
        "n2 = 1\r\n",
        "count = 0\r\n",
        "\r\n",
        "if num <= 0:\r\n",
        "   print(\"Please enter a positive integer\")\r\n",
        "elif num == 1:\r\n",
        "   print(\"Fibonacci sequence \")\r\n",
        "   print(n1)\r\n",
        "else:\r\n",
        "   print(\"Fibonacci sequence:\")\r\n",
        "   for value in range(1, num+1,):\r\n",
        "       print(n1)\r\n",
        "       n3 = n1 + n2\r\n",
        "       \r\n",
        "       n1 = n2\r\n",
        "       n2 = n3\r\n",
        "      "
      ],
      "execution_count": null,
      "outputs": [
        {
          "output_type": "stream",
          "text": [
            "How many terms? 3\n",
            "Fibonacci sequence:\n",
            "0\n",
            "1\n",
            "1\n"
          ],
          "name": "stdout"
        }
      ]
    },
    {
      "cell_type": "code",
      "metadata": {
        "id": "3FEjD6YlD6Um"
      },
      "source": [
        "program 17"
      ],
      "execution_count": null,
      "outputs": []
    },
    {
      "cell_type": "code",
      "metadata": {
        "colab": {
          "base_uri": "https://localhost:8080/"
        },
        "id": "aCs6zbClFNoR",
        "outputId": "1a9ca4b6-d6ac-4798-f930-9c19a6a05c3a"
      },
      "source": [
        " a = float(input(\" Please Enter the First Value a: \"))\r\n",
        "b = float(input(\" Please Enter the Second Value b: \"))\r\n",
        "\r\n",
        "if(a > b):\r\n",
        "    maximum = a\r\n",
        "else:\r\n",
        "    maximum = b\r\n",
        "\r\n",
        "while(True):\r\n",
        "    if(maximum % a == 0 and maximum % b == 0):\r\n",
        "        print(\"\\n LCM of \",a,\"and\",b, \"=\" ,maximum)\r\n",
        "        break;\r\n",
        "    maximum = maximum + 1"
      ],
      "execution_count": null,
      "outputs": [
        {
          "output_type": "stream",
          "text": [
            " Please Enter the First Value a: 54\n",
            " Please Enter the Second Value b: 24\n",
            "\n",
            " LCM of  54.0 and 24.0 = 216.0\n"
          ],
          "name": "stdout"
        }
      ]
    },
    {
      "cell_type": "code",
      "metadata": {
        "id": "IaifaYcoGFI8"
      },
      "source": [
        "program 18"
      ],
      "execution_count": null,
      "outputs": []
    },
    {
      "cell_type": "code",
      "metadata": {
        "colab": {
          "base_uri": "https://localhost:8080/"
        },
        "id": "FZvpjfnYGHkC",
        "outputId": "4e2778eb-d644-4736-b09b-1028fd16266f"
      },
      "source": [
        "n=int(input(\"Enter number:\"))\r\n",
        "count=0\r\n",
        "while(n>0):\r\n",
        "    count=count+1\r\n",
        "    n=n//10\r\n",
        "print(\"The number of digits in the number are:\",count)"
      ],
      "execution_count": null,
      "outputs": [
        {
          "output_type": "stream",
          "text": [
            "Enter number:456\n",
            "The number of digits in the number are: 3\n"
          ],
          "name": "stdout"
        }
      ]
    },
    {
      "cell_type": "code",
      "metadata": {
        "id": "Nb0z-b7TGuMV"
      },
      "source": [
        "program 19"
      ],
      "execution_count": null,
      "outputs": []
    },
    {
      "cell_type": "code",
      "metadata": {
        "colab": {
          "base_uri": "https://localhost:8080/"
        },
        "id": "yf0K2jG0GHrd",
        "outputId": "24b609e4-e2b4-45a3-a419-b0e42ef6d47b"
      },
      "source": [
        "Number = int(input(\" Enter a Number: \"))\r\n",
        "Reverse = 0\r\n",
        "while(Number > 0):\r\n",
        "    Reminder = Number %10\r\n",
        "    Reverse = (Reverse *10) + Reminder\r\n",
        "    Number = Number //10\r\n",
        "\r\n",
        "print(\"\\n Reverse of entered number is = %d\" %Reverse)"
      ],
      "execution_count": null,
      "outputs": [
        {
          "output_type": "stream",
          "text": [
            " Enter a Number: 345\n",
            "\n",
            " Reverse of entered number is = 543\n"
          ],
          "name": "stdout"
        }
      ]
    },
    {
      "cell_type": "code",
      "metadata": {
        "id": "6uoKLX1RHTFM"
      },
      "source": [
        "program 20"
      ],
      "execution_count": null,
      "outputs": []
    },
    {
      "cell_type": "code",
      "metadata": {
        "colab": {
          "base_uri": "https://localhost:8080/"
        },
        "id": "h-Qy0eLAHXI1",
        "outputId": "bdd1d14f-81c7-491f-f05c-11a497ee765c"
      },
      "source": [
        "base_number = int(input(\"Enter the base number\"))\r\n",
        "exponent = int(input(\"Enter the exponent\"))\r\n",
        "\r\n",
        "power = base_number ** exponent\r\n",
        "print(\"Result is =\",power)"
      ],
      "execution_count": null,
      "outputs": [
        {
          "output_type": "stream",
          "text": [
            "Enter the base number2\n",
            "Enter the exponent5\n",
            "Result is = 32\n"
          ],
          "name": "stdout"
        }
      ]
    },
    {
      "cell_type": "code",
      "metadata": {
        "id": "g4Z9TjVQIslN"
      },
      "source": [
        "program 21"
      ],
      "execution_count": null,
      "outputs": []
    },
    {
      "cell_type": "code",
      "metadata": {
        "id": "UkiU_Q5fIvK5",
        "colab": {
          "base_uri": "https://localhost:8080/"
        },
        "outputId": "59487bdf-f039-460e-d45d-938f4c1ee8c6"
      },
      "source": [
        "n=int(input(\"Enter number:\"))\r\n",
        "temp=n\r\n",
        "rev=0\r\n",
        "while(n>0):\r\n",
        "    d=n%10\r\n",
        "    rev=rev*10+d\r\n",
        "    n=n//10\r\n",
        "if(temp==rev):\r\n",
        "    print(\"The number is a palindrome!\")\r\n",
        "else:\r\n",
        "    print(\"The number is not a palindrome!\")"
      ],
      "execution_count": 7,
      "outputs": [
        {
          "output_type": "stream",
          "text": [
            "Enter number:234\n",
            "The number is not a palindrome!\n"
          ],
          "name": "stdout"
        }
      ]
    }
  ]
}